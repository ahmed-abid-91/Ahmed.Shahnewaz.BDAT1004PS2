{
 "cells": [
  {
   "cell_type": "markdown",
   "id": "957608e7",
   "metadata": {},
   "source": [
    "# Problem Set - 2"
   ]
  },
  {
   "cell_type": "markdown",
   "id": "79a63921",
   "metadata": {},
   "source": [
    "# Question No. 1"
   ]
  },
  {
   "cell_type": "code",
   "execution_count": 14,
   "id": "25eef306",
   "metadata": {
    "scrolled": true
   },
   "outputs": [
    {
     "data": {
      "text/plain": [
       "6"
      ]
     },
     "execution_count": 14,
     "metadata": {},
     "output_type": "execute_result"
    }
   ],
   "source": [
    "a = 0\n",
    "\n",
    "def b():\n",
    "    global a\n",
    "    a = c(a)\n",
    "    \n",
    "def c(a):\n",
    "    return a + 2\n",
    "\n",
    "b()\n",
    "b()\n",
    "b()\n",
    "a"
   ]
  },
  {
   "cell_type": "markdown",
   "id": "c290aa5c",
   "metadata": {},
   "source": [
    "b() = In the first line, the value of a = 0 and then the variable 'a' is set as a global variable. Therefore, this means it is accessible throughout the class. So when we call the first b() function, the value is updated to 2.\n",
    "\n",
    "Similarly, when again executing, then the function b() = 2 + 2 = 4\n",
    "\n",
    "Lastly, when we executing another time then the function b() = 4 + 2 = 6\n",
    "therefore value of 'a' when executed it is updated to 6."
   ]
  },
  {
   "cell_type": "markdown",
   "id": "513616d3",
   "metadata": {},
   "source": [
    "# Question No. 2"
   ]
  },
  {
   "cell_type": "code",
   "execution_count": 20,
   "id": "c2f13d95",
   "metadata": {},
   "outputs": [],
   "source": [
    "def file_length(filename):\n",
    "    try:\n",
    "        infile = open(filename, \"r\")                     \n",
    "        contents=infile.read()\n",
    "        print('Total file length is : '+ str(len(contents)))\n",
    "        infile.close()\n",
    "    except:\n",
    "        print('File '+filename+' not found.')"
   ]
  },
  {
   "cell_type": "code",
   "execution_count": 21,
   "id": "51ba0371",
   "metadata": {
    "scrolled": true
   },
   "outputs": [
    {
     "name": "stdout",
     "output_type": "stream",
     "text": [
      "Total file length is : 73\n"
     ]
    }
   ],
   "source": [
    "file_length(\"midterm.py\")"
   ]
  },
  {
   "cell_type": "code",
   "execution_count": 22,
   "id": "1c9df935",
   "metadata": {
    "scrolled": true
   },
   "outputs": [
    {
     "name": "stdout",
     "output_type": "stream",
     "text": [
      "File idterm.py not found.\n"
     ]
    }
   ],
   "source": [
    "file_length('idterm.py')"
   ]
  },
  {
   "cell_type": "markdown",
   "id": "80c094a9",
   "metadata": {},
   "source": [
    "# Question No. 3"
   ]
  },
  {
   "cell_type": "code",
   "execution_count": 23,
   "id": "b9607fd0",
   "metadata": {},
   "outputs": [
    {
     "data": {
      "text/plain": [
       "['doll', 'firetruck', 'kitten']"
      ]
     },
     "execution_count": 23,
     "metadata": {},
     "output_type": "execute_result"
    }
   ],
   "source": [
    "class Marsupial(object):\n",
    "  \n",
    "    def __init__(self):           \n",
    "        self.list = []\n",
    "    def put_in_pouch(self, product):       \n",
    "        self.list.append(product)\n",
    "    def pouch_contents(self):\n",
    "        return self.list\n",
    "    \n",
    "m = Marsupial()\n",
    "m.put_in_pouch('doll')\n",
    "m.put_in_pouch('firetruck')\n",
    "m.put_in_pouch('kitten')\n",
    "m.pouch_contents()"
   ]
  },
  {
   "cell_type": "code",
   "execution_count": 24,
   "id": "5fcb1c2e",
   "metadata": {},
   "outputs": [],
   "source": [
    "class Kangaroo(Marsupial):\n",
    "    \n",
    "    def __init__(self,x,y):\n",
    "        Marsupial.__init__(self)\n",
    "        self.x = x\n",
    "        self.y = y\n",
    "\n",
    "    def jump(self,dx,dy):\n",
    "        self.x = self.x + dx\n",
    "        self.y = self.y + dy\n",
    "\n",
    "    def __str__(self):\n",
    "        return 'I am a Kangaroo located at coordinates ({},{})'.format(self.x,self.y)"
   ]
  },
  {
   "cell_type": "code",
   "execution_count": 43,
   "id": "0befd3b1",
   "metadata": {},
   "outputs": [
    {
     "name": "stdout",
     "output_type": "stream",
     "text": [
      "I am a Kangaroo located at coordinates (0,0)\n"
     ]
    }
   ],
   "source": [
    "k = Kangaroo(0,0)\n",
    "print(k)"
   ]
  },
  {
   "cell_type": "markdown",
   "id": "a35be3d3",
   "metadata": {},
   "source": [
    "# Question No. 4"
   ]
  },
  {
   "cell_type": "code",
   "execution_count": 12,
   "id": "25fa964e",
   "metadata": {},
   "outputs": [],
   "source": [
    "def collatz(n): \n",
    "\n",
    "    if n != 1:                   \n",
    "        if n%2!=0:\n",
    "            print(int(n))\n",
    "            collatz(3*n+1)\n",
    "\n",
    "        else:\n",
    "            print(int(n))\n",
    "            collatz(n/2)\n",
    "\n",
    "    else:\n",
    "        print(int(n));"
   ]
  },
  {
   "cell_type": "code",
   "execution_count": 13,
   "id": "7cf32934",
   "metadata": {},
   "outputs": [
    {
     "name": "stdout",
     "output_type": "stream",
     "text": [
      "5\n",
      "16\n",
      "8\n",
      "4\n",
      "2\n",
      "1\n"
     ]
    }
   ],
   "source": [
    "collatz(5)"
   ]
  },
  {
   "cell_type": "markdown",
   "id": "b26b2ad0",
   "metadata": {},
   "source": [
    "# Question No. 5"
   ]
  },
  {
   "cell_type": "code",
   "execution_count": 46,
   "id": "f1021b55",
   "metadata": {},
   "outputs": [],
   "source": [
    "def binary(b):\n",
    "    \n",
    "    if b>0:\n",
    "        return (b % 2 + 10*binary(int(b // 2)))\n",
    "       \n",
    "    else:\n",
    "         return 0"
   ]
  },
  {
   "cell_type": "code",
   "execution_count": 47,
   "id": "071eee71",
   "metadata": {},
   "outputs": [
    {
     "data": {
      "text/plain": [
       "0"
      ]
     },
     "execution_count": 47,
     "metadata": {},
     "output_type": "execute_result"
    }
   ],
   "source": [
    "binary(0)"
   ]
  },
  {
   "cell_type": "code",
   "execution_count": 48,
   "id": "057236ab",
   "metadata": {},
   "outputs": [
    {
     "data": {
      "text/plain": [
       "1"
      ]
     },
     "execution_count": 48,
     "metadata": {},
     "output_type": "execute_result"
    }
   ],
   "source": [
    "binary(1)"
   ]
  },
  {
   "cell_type": "code",
   "execution_count": 49,
   "id": "8264d303",
   "metadata": {},
   "outputs": [
    {
     "data": {
      "text/plain": [
       "11"
      ]
     },
     "execution_count": 49,
     "metadata": {},
     "output_type": "execute_result"
    }
   ],
   "source": [
    "binary(3)"
   ]
  },
  {
   "cell_type": "code",
   "execution_count": 50,
   "id": "4af4efc7",
   "metadata": {},
   "outputs": [
    {
     "data": {
      "text/plain": [
       "1001"
      ]
     },
     "execution_count": 50,
     "metadata": {},
     "output_type": "execute_result"
    }
   ],
   "source": [
    "binary(9)"
   ]
  },
  {
   "cell_type": "markdown",
   "id": "442026ff",
   "metadata": {},
   "source": [
    "# Question No. 6"
   ]
  },
  {
   "cell_type": "code",
   "execution_count": 25,
   "id": "e5c52ced",
   "metadata": {},
   "outputs": [],
   "source": [
    "from html.parser import HTMLParser\n",
    "class HeadingParser(HTMLParser):           \n",
    "    def __init__(self):\n",
    "        HTMLParser.__init__(self)\n",
    "        self.head =0\n",
    "        self.intend = \"\"\n",
    "    def handle_starttag(self, tag, attrs):\n",
    "        if tag[:-1]=='h':\n",
    "            self.head = 'type'\n",
    "    def handle_data(self, data):\n",
    "        if self.head==\"type\":\n",
    "            print(self.intend+ data)\n",
    "            self.intend+= \"    \"\n",
    "            self.head=0"
   ]
  },
  {
   "cell_type": "code",
   "execution_count": 26,
   "id": "0addfec4",
   "metadata": {
    "scrolled": true
   },
   "outputs": [
    {
     "name": "stdout",
     "output_type": "stream",
     "text": [
      "W3C Mission\n",
      "    Principles\n"
     ]
    }
   ],
   "source": [
    "infile = open('w3c.html')\n",
    "content = infile.read()\n",
    "infile.close()\n",
    "hp = HeadingParser()\n",
    "hp.feed(content)"
   ]
  },
  {
   "cell_type": "markdown",
   "id": "cd47dc72",
   "metadata": {},
   "source": [
    "# Question No. 7"
   ]
  },
  {
   "cell_type": "code",
   "execution_count": 29,
   "id": "c9ed67ed",
   "metadata": {},
   "outputs": [],
   "source": [
    "from html.parser import HTMLParser\n",
    "from urllib.request import urlopen\n",
    "from urllib.parse import urljoin\n",
    "\n",
    "class collectURL(HTMLParser):    \n",
    "    def __init__(self, url):\n",
    "        HTMLParser.__init__(self)\n",
    "        self.url = url\n",
    "        self.links = []\n",
    "    \n",
    "    def handle_starttag(self, tag , attrs):\n",
    "        if tag == 'a':\n",
    "            for attr in attrs:\n",
    "                if attr[0] == 'href':\n",
    "                    absolueLink = urljoin(self.url, attr[1])\n",
    "                    if absolueLink[:4] == 'http':\n",
    "                        self.links.append(absolueLink)\n",
    "                        \n",
    "    def getLinks(self):\n",
    "        return self.links\n",
    "\n",
    "def webdir(url, depth, indent):\n",
    "    content = urlopen(url).read().decode()\n",
    "    collector = collectURL(url)\n",
    "    collector.feed(content)\n",
    "    urls = collector.getLinks()\n",
    "    \n",
    "    if indent == 0:\n",
    "        print(url)\n",
    "    else:\n",
    "        print(indent*' ',url)\n",
    "\n",
    "    for url in urls:\n",
    "        if depth > 0:\n",
    "            webdir(url, depth - 1, indent+2)"
   ]
  },
  {
   "cell_type": "code",
   "execution_count": 30,
   "id": "55976be6",
   "metadata": {},
   "outputs": [
    {
     "name": "stdout",
     "output_type": "stream",
     "text": [
      "http://reed.cs.depaul.edu/lperkovic/test1.html\n",
      "   http://reed.cs.depaul.edu/lperkovic/test2.html\n",
      "     http://reed.cs.depaul.edu/lperkovic/test4.html\n",
      "   http://reed.cs.depaul.edu/lperkovic/test3.html\n",
      "     http://reed.cs.depaul.edu/lperkovic/test4.html\n"
     ]
    }
   ],
   "source": [
    "webdir('http://reed.cs.depaul.edu/lperkovic/test1.html', 2, 0)"
   ]
  },
  {
   "cell_type": "markdown",
   "id": "43ccf65b",
   "metadata": {},
   "source": [
    "\n",
    "# Question No. 8"
   ]
  },
  {
   "cell_type": "code",
   "execution_count": 67,
   "id": "4d595066",
   "metadata": {},
   "outputs": [
    {
     "data": {
      "text/plain": [
       "<sqlite3.Cursor at 0x1b79a13ef10>"
      ]
     },
     "execution_count": 67,
     "metadata": {},
     "output_type": "execute_result"
    }
   ],
   "source": [
    "import sqlite3\n",
    "con = sqlite3.connect('data.db')\n",
    "cur = con.cursor()\n",
    "cur.execute(\"CREATE TABLE Ahmed (City text, Country text, Season text, Temperature float, Rainfall float)\")\n",
    "cur.execute(\"INSERT INTO Ahmed VALUES ('Mumbai', 'India', 'Winter', 24.8, 5.9 )\")\n",
    "cur.execute(\"INSERT INTO Ahmed VALUES ('Mumbai', 'India', 'Spring', 28.4, 16.2 )\")\n",
    "cur.execute(\"INSERT INTO Ahmed VALUES ('Mumbai', 'India', 'Summer', 27.9, 1549.4)\")\n",
    "cur.execute(\"INSERT INTO Ahmed VALUES ('Mumbai', 'India', 'Fall', 27.6, 346.0)\")\n",
    "\n",
    "cur.execute(\"INSERT INTO Ahmed VALUES ('London', 'United Kingdom', 'Winter', 4.2, 207.7)\")\n",
    "cur.execute(\"INSERT INTO Ahmed VALUES ('London', 'United Kingdom', 'Spring', 8.3, 169.6)\")\n",
    "cur.execute(\"INSERT INTO Ahmed VALUES ('London', 'United Kingdom', 'Summer',15.7, 157.0)\")\n",
    "cur.execute(\"INSERT INTO Ahmed VALUES ('London', 'United Kingdom', 'Fall',10.4, 218.5)\")\n",
    "\n",
    "\n",
    "cur.execute(\"INSERT INTO Ahmed VALUES ('Cairo', 'Egypt', 'Winter', 13.6, 16.5)\")\n",
    "cur.execute(\"INSERT INTO Ahmed VALUES ('Cairo', 'Egypt', 'Spring',20.7, 6.5)\")\n",
    "cur.execute(\"INSERT INTO Ahmed VALUES ('Cairo', 'Egypt', 'Summer',27.7, 0.1)\")\n",
    "cur.execute(\"INSERT INTO Ahmed VALUES ('Cairo', 'Egypt', 'Fall',22.5, 4.5)\")\n"
   ]
  },
  {
   "cell_type": "markdown",
   "id": "9c063d0f",
   "metadata": {},
   "source": [
    "# a)\tAll the Temperature Data."
   ]
  },
  {
   "cell_type": "code",
   "execution_count": 68,
   "id": "56acbb2a",
   "metadata": {},
   "outputs": [
    {
     "name": "stdout",
     "output_type": "stream",
     "text": [
      "[('Mumbai', 'India', 'Winter', 24.8, 5.9), ('Mumbai', 'India', 'Spring', 28.4, 16.2), ('Mumbai', 'India', 'Summer', 27.9, 1549.4), ('Mumbai', 'India', 'Fall', 27.6, 346.0), ('London', 'United Kingdom', 'Winter', 4.2, 207.7), ('London', 'United Kingdom', 'Spring', 8.3, 169.6), ('London', 'United Kingdom', 'Summer', 15.7, 157.0), ('London', 'United Kingdom', 'Fall', 10.4, 218.5), ('Cairo', 'Egypt', 'Winter', 13.6, 16.5), ('Cairo', 'Egypt', 'Spring', 20.7, 6.5), ('Cairo', 'Egypt', 'Summer', 27.7, 0.1), ('Cairo', 'Egypt', 'Fall', 22.5, 4.5)]\n"
     ]
    }
   ],
   "source": [
    "cur.execute('SELECT * FROM Ahmed')\n",
    "print(cur.fetchall())"
   ]
  },
  {
   "cell_type": "markdown",
   "id": "7a01f645",
   "metadata": {},
   "source": [
    "# b)\tAll the Cities, but without Repetition."
   ]
  },
  {
   "cell_type": "code",
   "execution_count": 69,
   "id": "25fec03b",
   "metadata": {},
   "outputs": [
    {
     "name": "stdout",
     "output_type": "stream",
     "text": [
      "[('Mumbai',), ('London',), ('Cairo',)]\n"
     ]
    }
   ],
   "source": [
    "cur.execute('SELECT DISTINCT City FROM Ahmed')\n",
    "print(cur.fetchall())"
   ]
  },
  {
   "cell_type": "markdown",
   "id": "a7df4972",
   "metadata": {},
   "source": [
    "# c)\tAll the Records for India."
   ]
  },
  {
   "cell_type": "code",
   "execution_count": 70,
   "id": "90df3007",
   "metadata": {},
   "outputs": [
    {
     "name": "stdout",
     "output_type": "stream",
     "text": [
      "[('Mumbai', 'India', 'Winter', 24.8, 5.9), ('Mumbai', 'India', 'Spring', 28.4, 16.2), ('Mumbai', 'India', 'Summer', 27.9, 1549.4), ('Mumbai', 'India', 'Fall', 27.6, 346.0)]\n"
     ]
    }
   ],
   "source": [
    "cur.execute('SELECT * FROM Ahmed WHERE Country = ?', ('India',))\n",
    "print(cur.fetchall())"
   ]
  },
  {
   "cell_type": "markdown",
   "id": "cab63e3f",
   "metadata": {},
   "source": [
    "# d)\tAll the Fall Records."
   ]
  },
  {
   "cell_type": "code",
   "execution_count": 71,
   "id": "3ab544cb",
   "metadata": {},
   "outputs": [
    {
     "name": "stdout",
     "output_type": "stream",
     "text": [
      "[('Mumbai', 'India', 'Fall', 27.6, 346.0), ('London', 'United Kingdom', 'Fall', 10.4, 218.5), ('Cairo', 'Egypt', 'Fall', 22.5, 4.5)]\n"
     ]
    }
   ],
   "source": [
    "cur.execute('SELECT * FROM Ahmed WHERE Season = ?', ('Fall',))\n",
    "print(cur.fetchall())"
   ]
  },
  {
   "cell_type": "markdown",
   "id": "b78b49a7",
   "metadata": {},
   "source": [
    "# e)\tThe City, Country, and Season for which the average Rainfall is between 200 and 400 millimeters."
   ]
  },
  {
   "cell_type": "code",
   "execution_count": 72,
   "id": "0efbe629",
   "metadata": {
    "scrolled": true
   },
   "outputs": [
    {
     "name": "stdout",
     "output_type": "stream",
     "text": [
      "[('Mumbai', 'India', 'Fall'), ('London', 'United Kingdom', 'Winter'), ('London', 'United Kingdom', 'Fall')]\n"
     ]
    }
   ],
   "source": [
    "cur.execute('SELECT City, Country, Season FROM Ahmed WHERE Rainfall > ? AND Rainfall < ?', (200,400))\n",
    "print(cur.fetchall())"
   ]
  },
  {
   "cell_type": "markdown",
   "id": "b172573b",
   "metadata": {},
   "source": [
    "# f)\tThe City and Country for which the Average Fall Temperature is above 20 Degrees, in increasing Temperature Order."
   ]
  },
  {
   "cell_type": "code",
   "execution_count": 73,
   "id": "371ad613",
   "metadata": {
    "scrolled": true
   },
   "outputs": [
    {
     "name": "stdout",
     "output_type": "stream",
     "text": [
      "[('Cairo', 'Egypt'), ('Mumbai', 'India')]\n"
     ]
    }
   ],
   "source": [
    "cur.execute('SELECT City, Country FROM Ahmed WHERE Season = ? AND Temperature > ? ORDER BY Temperature', ('Fall',20))\n",
    "print(cur.fetchall())"
   ]
  },
  {
   "cell_type": "markdown",
   "id": "3a2bfd0b",
   "metadata": {},
   "source": [
    "# g)\tThe Total Annual Rainfall for Cairo"
   ]
  },
  {
   "cell_type": "code",
   "execution_count": 74,
   "id": "bf6fbca2",
   "metadata": {},
   "outputs": [
    {
     "name": "stdout",
     "output_type": "stream",
     "text": [
      "[('Cairo', 27.6)]\n"
     ]
    }
   ],
   "source": [
    "cur.execute('SELECT City, SUM(Rainfall) FROM Ahmed WHERE City = ? GROUP BY City', ('Cairo',))\n",
    "print(cur.fetchall())"
   ]
  },
  {
   "cell_type": "markdown",
   "id": "21dd1c21",
   "metadata": {},
   "source": [
    "# h) Total Rainfall for Each Season"
   ]
  },
  {
   "cell_type": "code",
   "execution_count": 75,
   "id": "116c6de4",
   "metadata": {},
   "outputs": [
    {
     "name": "stdout",
     "output_type": "stream",
     "text": [
      "[('Fall', 569.0), ('Spring', 192.29999999999998), ('Summer', 1706.5), ('Winter', 230.1)]\n"
     ]
    }
   ],
   "source": [
    "cur.execute('SELECT Season, SUM(Rainfall) FROM Ahmed GROUP BY Season')\n",
    "print(cur.fetchall())"
   ]
  },
  {
   "cell_type": "markdown",
   "id": "d9d62847",
   "metadata": {},
   "source": [
    "# Question No. 9"
   ]
  },
  {
   "cell_type": "code",
   "execution_count": 12,
   "id": "343fc762",
   "metadata": {},
   "outputs": [],
   "source": [
    "words = ['The', 'quick', 'brown','fox', 'jumps','over', 'the' ,'lazy' ,'dog' ]"
   ]
  },
  {
   "cell_type": "markdown",
   "id": "b046c939",
   "metadata": {},
   "source": [
    "# a)"
   ]
  },
  {
   "cell_type": "code",
   "execution_count": 13,
   "id": "d288d5b8",
   "metadata": {
    "scrolled": true
   },
   "outputs": [
    {
     "name": "stdout",
     "output_type": "stream",
     "text": [
      "['THE', 'QUICK', 'BROWN', 'FOX', 'JUMPS', 'OVER', 'THE', 'LAZY', 'DOG']\n"
     ]
    }
   ],
   "source": [
    "List1 = [x.upper() for x in words]\n",
    "print(List1)"
   ]
  },
  {
   "cell_type": "markdown",
   "id": "1e006eb6",
   "metadata": {},
   "source": [
    "# b)"
   ]
  },
  {
   "cell_type": "code",
   "execution_count": 14,
   "id": "7d542742",
   "metadata": {},
   "outputs": [
    {
     "name": "stdout",
     "output_type": "stream",
     "text": [
      "['the', 'quick', 'brown', 'fox', 'jumps', 'over', 'the', 'lazy', 'dog']\n"
     ]
    }
   ],
   "source": [
    "List2 = [x.lower() for x in words]\n",
    "print(List2)"
   ]
  },
  {
   "cell_type": "markdown",
   "id": "c9903567",
   "metadata": {},
   "source": [
    "# c)"
   ]
  },
  {
   "cell_type": "code",
   "execution_count": 15,
   "id": "ee74a48b",
   "metadata": {},
   "outputs": [
    {
     "name": "stdout",
     "output_type": "stream",
     "text": [
      "[3, 5, 5, 3, 5, 4, 3, 4, 3]\n"
     ]
    }
   ],
   "source": [
    "List3 = [len(x) for x in words]\n",
    "print(List3)"
   ]
  },
  {
   "cell_type": "markdown",
   "id": "6ef9dc3e",
   "metadata": {},
   "source": [
    "# d)"
   ]
  },
  {
   "cell_type": "code",
   "execution_count": 16,
   "id": "756a10f6",
   "metadata": {},
   "outputs": [
    {
     "name": "stdout",
     "output_type": "stream",
     "text": [
      "[('THE', 'the', 3), ('QUICK', 'quick', 5), ('BROWN', 'brown', 5), ('FOX', 'fox', 3), ('JUMPS', 'jumps', 5), ('OVER', 'over', 4), ('THE', 'the', 3), ('LAZY', 'lazy', 4), ('DOG', 'dog', 3)]\n"
     ]
    }
   ],
   "source": [
    "List4 = [(x.upper(), x.lower(), len(x)) for x in words]\n",
    "print(List4)"
   ]
  },
  {
   "cell_type": "markdown",
   "id": "fdf2ee1b",
   "metadata": {},
   "source": [
    "# e)"
   ]
  },
  {
   "cell_type": "code",
   "execution_count": 17,
   "id": "57ad169f",
   "metadata": {},
   "outputs": [
    {
     "name": "stdout",
     "output_type": "stream",
     "text": [
      "['quick', 'brown', 'jumps', 'over', 'lazy']\n"
     ]
    }
   ],
   "source": [
    "List5 = [x for x in words if len(x)>=4]\n",
    "print(List5)"
   ]
  }
 ],
 "metadata": {
  "kernelspec": {
   "display_name": "Python 3 (ipykernel)",
   "language": "python",
   "name": "python3"
  },
  "language_info": {
   "codemirror_mode": {
    "name": "ipython",
    "version": 3
   },
   "file_extension": ".py",
   "mimetype": "text/x-python",
   "name": "python",
   "nbconvert_exporter": "python",
   "pygments_lexer": "ipython3",
   "version": "3.9.13"
  }
 },
 "nbformat": 4,
 "nbformat_minor": 5
}
